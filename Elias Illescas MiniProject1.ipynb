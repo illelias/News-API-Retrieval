{
  "nbformat": 4,
  "nbformat_minor": 0,
  "metadata": {
    "colab": {
      "provenance": []
    },
    "kernelspec": {
      "name": "python3",
      "display_name": "Python 3"
    },
    "language_info": {
      "name": "python"
    }
  },
  "cells": [
    {
      "cell_type": "code",
      "execution_count": null,
      "metadata": {
        "id": "9fF5EKKhM4gu"
      },
      "outputs": [],
      "source": [
        "import requests\n",
        "import json\n",
        "import os\n",
        "import time\n",
        "from openai import OpenAI\n",
        "from google.colab import userdata\n",
        "import pandas as pd\n",
        "import pprint"
      ]
    },
    {
      "cell_type": "code",
      "source": [
        "os.environ['OPENAI_API_KEY'] = userdata.get('OPENAI_API_KEY')\n",
        "news_key = userdata.get('NEWS_API_KEY')\n",
        "client = OpenAI()"
      ],
      "metadata": {
        "id": "YqbTrnTGNBxm"
      },
      "execution_count": null,
      "outputs": []
    },
    {
      "cell_type": "code",
      "source": [
        "health_query = 'Health'\n",
        "health_url = (f'https://content.guardianapis.com/search?q={health_query}&api-key={news_key}&page-size=25&page=1')\n",
        "health_response = requests.get(health_url)\n",
        "health_data = health_response.json()"
      ],
      "metadata": {
        "id": "4VRN2CdbNTcA"
      },
      "execution_count": null,
      "outputs": []
    },
    {
      "cell_type": "code",
      "source": [
        "pprint.pp(health_data)"
      ],
      "metadata": {
        "collapsed": true,
        "id": "QGh4i3ckotbl"
      },
      "execution_count": null,
      "outputs": []
    },
    {
      "cell_type": "code",
      "source": [
        "finance_query = 'Finance'\n",
        "finance_url = (f'https://content.guardianapis.com/search?q={finance_query}&api-key={news_key}&page-size=25&page=1')\n",
        "finance_response = requests.get(finance_url)\n",
        "finance_data = finance_response.json()"
      ],
      "metadata": {
        "id": "_Y1C_qGAJWvV"
      },
      "execution_count": null,
      "outputs": []
    },
    {
      "cell_type": "code",
      "source": [
        "pprint.pp(finance_data)"
      ],
      "metadata": {
        "id": "h1QVEdQ7oy4Y"
      },
      "execution_count": null,
      "outputs": []
    },
    {
      "cell_type": "code",
      "source": [
        "tech_query = 'Technology'\n",
        "tech_url = (f'https://content.guardianapis.com/search?q={tech_query}&api-key={news_key}&page-size=25&page=1')\n",
        "tech_response = requests.get(tech_url)\n",
        "tech_data = tech_response.json()"
      ],
      "metadata": {
        "id": "V8EY4xa-PI0T"
      },
      "execution_count": null,
      "outputs": []
    },
    {
      "cell_type": "code",
      "source": [
        "pprint.pp(tech_data)"
      ],
      "metadata": {
        "id": "OBMEL2E-o2kY"
      },
      "execution_count": null,
      "outputs": []
    },
    {
      "cell_type": "code",
      "source": [
        "science_query = 'Science'\n",
        "science_url = (f'https://content.guardianapis.com/search?q={science_query}&api-key={news_key}&page-size=25&page=1')\n",
        "science_response = requests.get(science_url)\n",
        "science_data = science_response.json()"
      ],
      "metadata": {
        "id": "mXdXy6URPUh9"
      },
      "execution_count": null,
      "outputs": []
    },
    {
      "cell_type": "code",
      "source": [
        "pprint.pp(science_data)"
      ],
      "metadata": {
        "id": "kFVPgEp4o5kh"
      },
      "execution_count": null,
      "outputs": []
    },
    {
      "cell_type": "code",
      "source": [
        "dog_query = 'Dog'\n",
        "dog_url = (f'https://content.guardianapis.com/search?q={dog_query}&api-key={news_key}&page-size=25&page=1')\n",
        "dog_response = requests.get(dog_url)\n",
        "dog_data = dog_response.json()"
      ],
      "metadata": {
        "id": "pWp9HqxqmOtf"
      },
      "execution_count": null,
      "outputs": []
    },
    {
      "cell_type": "code",
      "source": [
        "pprint.pp(dog_data)"
      ],
      "metadata": {
        "id": "T5zMvYpvo8r3",
        "collapsed": true
      },
      "execution_count": null,
      "outputs": []
    },
    {
      "cell_type": "code",
      "source": [
        "articles =  health_data['response']['results'] + finance_data['response']['results'] + tech_data['response']['results'] + science_data['response']['results'] + dog_data['response']['results']"
      ],
      "metadata": {
        "id": "6_grLytYWr2z"
      },
      "execution_count": null,
      "outputs": []
    },
    {
      "cell_type": "code",
      "source": [
        "!pip install boto3"
      ],
      "metadata": {
        "collapsed": true,
        "id": "O0qcaSprVf4b"
      },
      "execution_count": null,
      "outputs": []
    },
    {
      "cell_type": "code",
      "source": [
        "import os\n",
        "import boto3\n",
        "from botocore.config import Config\n",
        "from botocore import UNSIGNED"
      ],
      "metadata": {
        "id": "JE9ZCGRMVAqQ"
      },
      "execution_count": null,
      "outputs": []
    },
    {
      "cell_type": "code",
      "source": [
        "TEAM = \"TEAM_3/\"\n",
        "\n",
        "BUCKET_NAME = \"cus635-spring2025\"\n",
        "\n",
        "s3 = boto3.client('s3', config=Config(signature_version=UNSIGNED))"
      ],
      "metadata": {
        "id": "_J9evje-WF-f"
      },
      "execution_count": null,
      "outputs": []
    },
    {
      "cell_type": "code",
      "source": [
        "for i, article in enumerate(articles, 1):\n",
        "    # Generate a filename (using the article ID or index)\n",
        "    article_id = article[\"id\"].replace(\"/\", \"_\")  # Replace slashes with underscores for safe filenames\n",
        "    filename = f\"{article_id}.json\"\n",
        "\n",
        "    # Convert article to JSON string\n",
        "    article_json = json.dumps(article, indent=4)\n",
        "\n",
        "     # Upload to S3\n",
        "    s3.put_object(\n",
        "        Bucket=BUCKET_NAME,\n",
        "        Key=TEAM+filename,\n",
        "        Body=article_json,\n",
        "        ContentType=\"application/json\"\n",
        "    )\n",
        "\n",
        "    print(f\"Uploaded: {filename} to S3 bucket: {BUCKET_NAME}\")"
      ],
      "metadata": {
        "collapsed": true,
        "id": "GYl5KOuAXBDW"
      },
      "execution_count": null,
      "outputs": []
    },
    {
      "cell_type": "code",
      "source": [
        "response = s3.list_objects_v2(Bucket=BUCKET_NAME)\n",
        "if \"Contents\" in response:\n",
        "    print(\"Files in S3 Bucket:\")\n",
        "    for obj in response[\"Contents\"]:\n",
        "        print(f\"- {obj['Key']}\")\n",
        "else:\n",
        "    print(\"No files found in the bucket.\")"
      ],
      "metadata": {
        "collapsed": true,
        "id": "bV0L9dt2ZGsR"
      },
      "execution_count": null,
      "outputs": []
    }
  ]
}